{
 "cells": [
  {
   "cell_type": "code",
   "execution_count": 1,
   "id": "e5912dfe",
   "metadata": {},
   "outputs": [],
   "source": [
    "import numpy as np\n",
    "import pandas as pd\n",
    "import seaborn as sns\n",
    "import matplotlib.pyplot as plt\n",
    "\n",
    "%matplotlib inline"
   ]
  },
  {
   "cell_type": "code",
   "execution_count": 2,
   "id": "ba3b8ba6",
   "metadata": {},
   "outputs": [],
   "source": [
    "df = pd.read_csv('Pizza.csv')"
   ]
  },
  {
   "cell_type": "code",
   "execution_count": 3,
   "id": "544b17a9",
   "metadata": {},
   "outputs": [
    {
     "data": {
      "text/html": [
       "<div>\n",
       "<style scoped>\n",
       "    .dataframe tbody tr th:only-of-type {\n",
       "        vertical-align: middle;\n",
       "    }\n",
       "\n",
       "    .dataframe tbody tr th {\n",
       "        vertical-align: top;\n",
       "    }\n",
       "\n",
       "    .dataframe thead th {\n",
       "        text-align: right;\n",
       "    }\n",
       "</style>\n",
       "<table border=\"1\" class=\"dataframe\">\n",
       "  <thead>\n",
       "    <tr style=\"text-align: right;\">\n",
       "      <th></th>\n",
       "      <th>brand</th>\n",
       "      <th>id</th>\n",
       "      <th>mois</th>\n",
       "      <th>prot</th>\n",
       "      <th>fat</th>\n",
       "      <th>ash</th>\n",
       "      <th>sodium</th>\n",
       "      <th>carb</th>\n",
       "      <th>cal</th>\n",
       "    </tr>\n",
       "  </thead>\n",
       "  <tbody>\n",
       "    <tr>\n",
       "      <th>0</th>\n",
       "      <td>A</td>\n",
       "      <td>14069</td>\n",
       "      <td>27.82</td>\n",
       "      <td>21.43</td>\n",
       "      <td>44.87</td>\n",
       "      <td>5.11</td>\n",
       "      <td>1.77</td>\n",
       "      <td>0.77</td>\n",
       "      <td>4.93</td>\n",
       "    </tr>\n",
       "    <tr>\n",
       "      <th>1</th>\n",
       "      <td>A</td>\n",
       "      <td>14053</td>\n",
       "      <td>28.49</td>\n",
       "      <td>21.26</td>\n",
       "      <td>43.89</td>\n",
       "      <td>5.34</td>\n",
       "      <td>1.79</td>\n",
       "      <td>1.02</td>\n",
       "      <td>4.84</td>\n",
       "    </tr>\n",
       "    <tr>\n",
       "      <th>2</th>\n",
       "      <td>A</td>\n",
       "      <td>14025</td>\n",
       "      <td>28.35</td>\n",
       "      <td>19.99</td>\n",
       "      <td>45.78</td>\n",
       "      <td>5.08</td>\n",
       "      <td>1.63</td>\n",
       "      <td>0.80</td>\n",
       "      <td>4.95</td>\n",
       "    </tr>\n",
       "    <tr>\n",
       "      <th>3</th>\n",
       "      <td>A</td>\n",
       "      <td>14016</td>\n",
       "      <td>30.55</td>\n",
       "      <td>20.15</td>\n",
       "      <td>43.13</td>\n",
       "      <td>4.79</td>\n",
       "      <td>1.61</td>\n",
       "      <td>1.38</td>\n",
       "      <td>4.74</td>\n",
       "    </tr>\n",
       "    <tr>\n",
       "      <th>4</th>\n",
       "      <td>A</td>\n",
       "      <td>14005</td>\n",
       "      <td>30.49</td>\n",
       "      <td>21.28</td>\n",
       "      <td>41.65</td>\n",
       "      <td>4.82</td>\n",
       "      <td>1.64</td>\n",
       "      <td>1.76</td>\n",
       "      <td>4.67</td>\n",
       "    </tr>\n",
       "    <tr>\n",
       "      <th>...</th>\n",
       "      <td>...</td>\n",
       "      <td>...</td>\n",
       "      <td>...</td>\n",
       "      <td>...</td>\n",
       "      <td>...</td>\n",
       "      <td>...</td>\n",
       "      <td>...</td>\n",
       "      <td>...</td>\n",
       "      <td>...</td>\n",
       "    </tr>\n",
       "    <tr>\n",
       "      <th>295</th>\n",
       "      <td>J</td>\n",
       "      <td>34044</td>\n",
       "      <td>44.91</td>\n",
       "      <td>11.07</td>\n",
       "      <td>17.00</td>\n",
       "      <td>2.49</td>\n",
       "      <td>0.66</td>\n",
       "      <td>25.36</td>\n",
       "      <td>2.91</td>\n",
       "    </tr>\n",
       "    <tr>\n",
       "      <th>296</th>\n",
       "      <td>J</td>\n",
       "      <td>24069</td>\n",
       "      <td>43.15</td>\n",
       "      <td>11.79</td>\n",
       "      <td>18.46</td>\n",
       "      <td>2.43</td>\n",
       "      <td>0.67</td>\n",
       "      <td>24.17</td>\n",
       "      <td>3.10</td>\n",
       "    </tr>\n",
       "    <tr>\n",
       "      <th>297</th>\n",
       "      <td>J</td>\n",
       "      <td>34039</td>\n",
       "      <td>44.55</td>\n",
       "      <td>11.01</td>\n",
       "      <td>16.03</td>\n",
       "      <td>2.43</td>\n",
       "      <td>0.64</td>\n",
       "      <td>25.98</td>\n",
       "      <td>2.92</td>\n",
       "    </tr>\n",
       "    <tr>\n",
       "      <th>298</th>\n",
       "      <td>J</td>\n",
       "      <td>14044</td>\n",
       "      <td>47.60</td>\n",
       "      <td>10.43</td>\n",
       "      <td>15.18</td>\n",
       "      <td>2.32</td>\n",
       "      <td>0.56</td>\n",
       "      <td>24.47</td>\n",
       "      <td>2.76</td>\n",
       "    </tr>\n",
       "    <tr>\n",
       "      <th>299</th>\n",
       "      <td>J</td>\n",
       "      <td>14045</td>\n",
       "      <td>46.84</td>\n",
       "      <td>9.91</td>\n",
       "      <td>15.50</td>\n",
       "      <td>2.27</td>\n",
       "      <td>0.57</td>\n",
       "      <td>25.48</td>\n",
       "      <td>2.81</td>\n",
       "    </tr>\n",
       "  </tbody>\n",
       "</table>\n",
       "<p>300 rows × 9 columns</p>\n",
       "</div>"
      ],
      "text/plain": [
       "    brand     id   mois   prot    fat   ash  sodium   carb   cal\n",
       "0       A  14069  27.82  21.43  44.87  5.11    1.77   0.77  4.93\n",
       "1       A  14053  28.49  21.26  43.89  5.34    1.79   1.02  4.84\n",
       "2       A  14025  28.35  19.99  45.78  5.08    1.63   0.80  4.95\n",
       "3       A  14016  30.55  20.15  43.13  4.79    1.61   1.38  4.74\n",
       "4       A  14005  30.49  21.28  41.65  4.82    1.64   1.76  4.67\n",
       "..    ...    ...    ...    ...    ...   ...     ...    ...   ...\n",
       "295     J  34044  44.91  11.07  17.00  2.49    0.66  25.36  2.91\n",
       "296     J  24069  43.15  11.79  18.46  2.43    0.67  24.17  3.10\n",
       "297     J  34039  44.55  11.01  16.03  2.43    0.64  25.98  2.92\n",
       "298     J  14044  47.60  10.43  15.18  2.32    0.56  24.47  2.76\n",
       "299     J  14045  46.84   9.91  15.50  2.27    0.57  25.48  2.81\n",
       "\n",
       "[300 rows x 9 columns]"
      ]
     },
     "execution_count": 3,
     "metadata": {},
     "output_type": "execute_result"
    }
   ],
   "source": [
    "df"
   ]
  },
  {
   "cell_type": "code",
   "execution_count": 4,
   "id": "cf762ffb",
   "metadata": {},
   "outputs": [
    {
     "name": "stdout",
     "output_type": "stream",
     "text": [
      "<class 'pandas.core.frame.DataFrame'>\n",
      "RangeIndex: 300 entries, 0 to 299\n",
      "Data columns (total 9 columns):\n",
      " #   Column  Non-Null Count  Dtype  \n",
      "---  ------  --------------  -----  \n",
      " 0   brand   300 non-null    object \n",
      " 1   id      300 non-null    int64  \n",
      " 2   mois    300 non-null    float64\n",
      " 3   prot    300 non-null    float64\n",
      " 4   fat     300 non-null    float64\n",
      " 5   ash     300 non-null    float64\n",
      " 6   sodium  300 non-null    float64\n",
      " 7   carb    300 non-null    float64\n",
      " 8   cal     300 non-null    float64\n",
      "dtypes: float64(7), int64(1), object(1)\n",
      "memory usage: 21.2+ KB\n"
     ]
    }
   ],
   "source": [
    "df.info()"
   ]
  },
  {
   "cell_type": "code",
   "execution_count": 5,
   "id": "127b6215",
   "metadata": {},
   "outputs": [
    {
     "data": {
      "text/plain": [
       "array(['A', 'B', 'C', 'D', 'E', 'F', 'G', 'H', 'I', 'J'], dtype=object)"
      ]
     },
     "execution_count": 5,
     "metadata": {},
     "output_type": "execute_result"
    }
   ],
   "source": [
    "df['brand'].unique()"
   ]
  },
  {
   "cell_type": "code",
   "execution_count": 6,
   "id": "e8c5cee7",
   "metadata": {},
   "outputs": [],
   "source": [
    "Y = df['brand']\n",
    "\n",
    "X = df.drop(['brand','id'], axis='columns')"
   ]
  },
  {
   "cell_type": "code",
   "execution_count": 8,
   "id": "e031d0d4",
   "metadata": {},
   "outputs": [],
   "source": [
    "from sklearn.preprocessing import StandardScaler\n",
    "\n",
    "sc =  StandardScaler()\n",
    "\n",
    "Scaled = sc.fit_transform(X)"
   ]
  },
  {
   "cell_type": "code",
   "execution_count": 35,
   "id": "52d3b2aa",
   "metadata": {},
   "outputs": [],
   "source": [
    "cov_mat = np.cov(Scaled.T)"
   ]
  },
  {
   "cell_type": "code",
   "execution_count": 36,
   "id": "2845a9cc",
   "metadata": {},
   "outputs": [],
   "source": [
    "Eigval , Eigvec = np.linalg.eig(cov_mat)"
   ]
  },
  {
   "cell_type": "code",
   "execution_count": 42,
   "id": "0e3a0dd8",
   "metadata": {},
   "outputs": [
    {
     "name": "stdout",
     "output_type": "stream",
     "text": [
      "59.6\n",
      "92.32\n",
      "98.24\n",
      "99.6\n",
      "100.0\n",
      "100.0\n",
      "100.0\n"
     ]
    }
   ],
   "source": [
    "#Cumulative EigenValues to check the variance retention\n",
    "tot = np.sum(Eigval)\n",
    "mval = 0\n",
    "for i in sorted(Eigval, reverse=True):\n",
    "    mval += np.round(i*100/tot, 2)\n",
    "    print(mval)\n",
    "    \n",
    "# var_exp = [(i / tot)*100 for i in sorted(eig_vals, reverse=True)]\n",
    "# cum_var_exp = np.cumsum(var_exp)"
   ]
  },
  {
   "cell_type": "markdown",
   "id": "21d55211",
   "metadata": {},
   "source": [
    "Here we see that in first 3 components only, Our varaince retention is more than 98%. So, We will take the value of n_components or K = 3 ."
   ]
  },
  {
   "cell_type": "code",
   "execution_count": 76,
   "id": "1ce0561e",
   "metadata": {},
   "outputs": [],
   "source": [
    "from sklearn.decomposition import PCA\n",
    "\n",
    "pca = PCA(n_components=6) # We will use K=3 when working on a real problem, but\n",
    "                            #to demonstrate the variance ratio, we kept k=6"
   ]
  },
  {
   "cell_type": "code",
   "execution_count": 77,
   "id": "229dd29e",
   "metadata": {},
   "outputs": [],
   "source": [
    "x_data = pca.fit_transform(Scaled)"
   ]
  },
  {
   "cell_type": "code",
   "execution_count": 78,
   "id": "f1972df1",
   "metadata": {},
   "outputs": [
    {
     "data": {
      "text/plain": [
       "[<matplotlib.lines.Line2D at 0x2177d421040>]"
      ]
     },
     "execution_count": 78,
     "metadata": {},
     "output_type": "execute_result"
    },
    {
     "data": {
      "image/png": "[encoded data removed]",
      "text/plain": [
       "<Figure size 432x288 with 1 Axes>"
      ]
     },
     "metadata": {
      "needs_background": "light"
     },
     "output_type": "display_data"
    }
   ],
   "source": [
    "plt.plot(pca.explained_variance_ratio_)"
   ]
  },
  {
   "cell_type": "code",
   "execution_count": 79,
   "id": "53f7dbc5",
   "metadata": {},
   "outputs": [
    {
     "data": {
      "text/html": [
       "<div>\n",
       "<style scoped>\n",
       "    .dataframe tbody tr th:only-of-type {\n",
       "        vertical-align: middle;\n",
       "    }\n",
       "\n",
       "    .dataframe tbody tr th {\n",
       "        vertical-align: top;\n",
       "    }\n",
       "\n",
       "    .dataframe thead th {\n",
       "        text-align: right;\n",
       "    }\n",
       "</style>\n",
       "<table border=\"1\" class=\"dataframe\">\n",
       "  <thead>\n",
       "    <tr style=\"text-align: right;\">\n",
       "      <th></th>\n",
       "      <th>0</th>\n",
       "      <th>1</th>\n",
       "      <th>2</th>\n",
       "      <th>3</th>\n",
       "      <th>4</th>\n",
       "      <th>5</th>\n",
       "    </tr>\n",
       "  </thead>\n",
       "  <tbody>\n",
       "    <tr>\n",
       "      <th>0</th>\n",
       "      <td>1.0</td>\n",
       "      <td>0.0</td>\n",
       "      <td>-0.0</td>\n",
       "      <td>-0.0</td>\n",
       "      <td>0.0</td>\n",
       "      <td>-0.0</td>\n",
       "    </tr>\n",
       "    <tr>\n",
       "      <th>1</th>\n",
       "      <td>0.0</td>\n",
       "      <td>1.0</td>\n",
       "      <td>0.0</td>\n",
       "      <td>0.0</td>\n",
       "      <td>0.0</td>\n",
       "      <td>0.0</td>\n",
       "    </tr>\n",
       "    <tr>\n",
       "      <th>2</th>\n",
       "      <td>-0.0</td>\n",
       "      <td>0.0</td>\n",
       "      <td>1.0</td>\n",
       "      <td>-0.0</td>\n",
       "      <td>0.0</td>\n",
       "      <td>0.0</td>\n",
       "    </tr>\n",
       "    <tr>\n",
       "      <th>3</th>\n",
       "      <td>-0.0</td>\n",
       "      <td>0.0</td>\n",
       "      <td>-0.0</td>\n",
       "      <td>1.0</td>\n",
       "      <td>-0.0</td>\n",
       "      <td>0.0</td>\n",
       "    </tr>\n",
       "    <tr>\n",
       "      <th>4</th>\n",
       "      <td>0.0</td>\n",
       "      <td>0.0</td>\n",
       "      <td>0.0</td>\n",
       "      <td>-0.0</td>\n",
       "      <td>1.0</td>\n",
       "      <td>-0.0</td>\n",
       "    </tr>\n",
       "    <tr>\n",
       "      <th>5</th>\n",
       "      <td>-0.0</td>\n",
       "      <td>0.0</td>\n",
       "      <td>0.0</td>\n",
       "      <td>0.0</td>\n",
       "      <td>-0.0</td>\n",
       "      <td>1.0</td>\n",
       "    </tr>\n",
       "  </tbody>\n",
       "</table>\n",
       "</div>"
      ],
      "text/plain": [
       "     0    1    2    3    4    5\n",
       "0  1.0  0.0 -0.0 -0.0  0.0 -0.0\n",
       "1  0.0  1.0  0.0  0.0  0.0  0.0\n",
       "2 -0.0  0.0  1.0 -0.0  0.0  0.0\n",
       "3 -0.0  0.0 -0.0  1.0 -0.0  0.0\n",
       "4  0.0  0.0  0.0 -0.0  1.0 -0.0\n",
       "5 -0.0  0.0  0.0  0.0 -0.0  1.0"
      ]
     },
     "execution_count": 79,
     "metadata": {},
     "output_type": "execute_result"
    }
   ],
   "source": [
    "np.round(pd.DataFrame(x_data).corr(),2)"
   ]
  },
  {
   "cell_type": "code",
   "execution_count": null,
   "id": "fed5a293",
   "metadata": {},
   "outputs": [],
   "source": []
  }
 ],
 "metadata": {
  "kernelspec": {
   "display_name": "Python 3 (ipykernel)",
   "language": "python",
   "name": "python3"
  },
  "language_info": {
   "codemirror_mode": {
    "name": "ipython",
    "version": 3
   },
   "file_extension": ".py",
   "mimetype": "text/x-python",
   "name": "python",
   "nbconvert_exporter": "python",
   "pygments_lexer": "ipython3",
   "version": "3.9.7"
  }
 },
 "nbformat": 4,
 "nbformat_minor": 5
}
