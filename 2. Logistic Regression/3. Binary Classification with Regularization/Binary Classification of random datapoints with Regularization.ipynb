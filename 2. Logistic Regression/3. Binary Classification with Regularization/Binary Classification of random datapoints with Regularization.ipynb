{
 "cells": [
  {
   "cell_type": "code",
   "execution_count": 1,
   "id": "a73fa6d3",
   "metadata": {},
   "outputs": [],
   "source": [
    "import numpy as np\n",
    "import pandas as pd\n",
    "import matplotlib.pyplot as plt\n",
    "import seaborn as sns\n",
    "%matplotlib inline"
   ]
  },
  {
   "cell_type": "code",
   "execution_count": 2,
   "id": "6e176b42",
   "metadata": {},
   "outputs": [],
   "source": [
    "df = pd.read_csv('logistic_regression_data.csv', index_col=None, header=None)"
   ]
  },
  {
   "cell_type": "code",
   "execution_count": 3,
   "id": "7025c954",
   "metadata": {
    "scrolled": false
   },
   "outputs": [],
   "source": [
    "df.columns = ['x_1', 'x_2', 'y']"
   ]
  },
  {
   "cell_type": "code",
   "execution_count": 4,
   "id": "efceabb5",
   "metadata": {},
   "outputs": [
    {
     "data": {
      "text/html": [
       "<div>\n",
       "<style scoped>\n",
       "    .dataframe tbody tr th:only-of-type {\n",
       "        vertical-align: middle;\n",
       "    }\n",
       "\n",
       "    .dataframe tbody tr th {\n",
       "        vertical-align: top;\n",
       "    }\n",
       "\n",
       "    .dataframe thead th {\n",
       "        text-align: right;\n",
       "    }\n",
       "</style>\n",
       "<table border=\"1\" class=\"dataframe\">\n",
       "  <thead>\n",
       "    <tr style=\"text-align: right;\">\n",
       "      <th></th>\n",
       "      <th>x_1</th>\n",
       "      <th>x_2</th>\n",
       "      <th>y</th>\n",
       "    </tr>\n",
       "  </thead>\n",
       "  <tbody>\n",
       "    <tr>\n",
       "      <th>0</th>\n",
       "      <td>34.623660</td>\n",
       "      <td>78.024693</td>\n",
       "      <td>0</td>\n",
       "    </tr>\n",
       "    <tr>\n",
       "      <th>1</th>\n",
       "      <td>30.286711</td>\n",
       "      <td>43.894998</td>\n",
       "      <td>0</td>\n",
       "    </tr>\n",
       "    <tr>\n",
       "      <th>2</th>\n",
       "      <td>35.847409</td>\n",
       "      <td>72.902198</td>\n",
       "      <td>0</td>\n",
       "    </tr>\n",
       "    <tr>\n",
       "      <th>3</th>\n",
       "      <td>60.182599</td>\n",
       "      <td>86.308552</td>\n",
       "      <td>1</td>\n",
       "    </tr>\n",
       "    <tr>\n",
       "      <th>4</th>\n",
       "      <td>79.032736</td>\n",
       "      <td>75.344376</td>\n",
       "      <td>1</td>\n",
       "    </tr>\n",
       "  </tbody>\n",
       "</table>\n",
       "</div>"
      ],
      "text/plain": [
       "         x_1        x_2  y\n",
       "0  34.623660  78.024693  0\n",
       "1  30.286711  43.894998  0\n",
       "2  35.847409  72.902198  0\n",
       "3  60.182599  86.308552  1\n",
       "4  79.032736  75.344376  1"
      ]
     },
     "execution_count": 4,
     "metadata": {},
     "output_type": "execute_result"
    }
   ],
   "source": [
    "df.head()"
   ]
  },
  {
   "cell_type": "code",
   "execution_count": 5,
   "id": "f71ecdd6",
   "metadata": {},
   "outputs": [
    {
     "data": {
      "text/plain": [
       "x_1    0\n",
       "x_2    0\n",
       "y      0\n",
       "dtype: int64"
      ]
     },
     "execution_count": 5,
     "metadata": {},
     "output_type": "execute_result"
    }
   ],
   "source": [
    "df.isnull().sum()"
   ]
  },
  {
   "cell_type": "markdown",
   "id": "fbe72a2d",
   "metadata": {},
   "source": [
    "No Null Values available in any column."
   ]
  },
  {
   "cell_type": "code",
   "execution_count": 6,
   "id": "9b2e900c",
   "metadata": {},
   "outputs": [
    {
     "data": {
      "image/png": "[encoded data removed]",
      "text/plain": [
       "<Figure size 1080x432 with 2 Axes>"
      ]
     },
     "metadata": {
      "needs_background": "light"
     },
     "output_type": "display_data"
    }
   ],
   "source": [
    "plt.figure(figsize=(15,6))\n",
    "plt.suptitle('BoxPlot for both the features')\n",
    "\n",
    "for i,clnm in enumerate(df.columns[:-1]):\n",
    "    plt.subplot(1,2,i+1)\n",
    "    plt.boxplot(df[clnm])\n",
    "    plt.title(clnm+\"feature\")"
   ]
  },
  {
   "cell_type": "markdown",
   "id": "c092a5c1",
   "metadata": {},
   "source": [
    "This shows that our data doesn't contain any outliers."
   ]
  },
  {
   "cell_type": "markdown",
   "id": "bae48a91",
   "metadata": {},
   "source": [
    "Now lets simply run the Logistic Regression and check it's accuracy, then we will apply regularization and see how it improves its score/accuracy."
   ]
  },
  {
   "cell_type": "code",
   "execution_count": 7,
   "id": "110c6ce5",
   "metadata": {},
   "outputs": [],
   "source": [
    "Y = df['y']\n",
    "df.drop(columns=['y'],inplace=True)\n",
    "X = df"
   ]
  },
  {
   "cell_type": "code",
   "execution_count": 8,
   "id": "8e189ae2",
   "metadata": {},
   "outputs": [],
   "source": [
    "from sklearn.model_selection import train_test_split\n",
    "\n",
    "X_train, X_test, y_train, y_test = train_test_split(X,Y, train_size=0.2, random_state=10)"
   ]
  },
  {
   "cell_type": "code",
   "execution_count": 9,
   "id": "fbbbf5c7",
   "metadata": {},
   "outputs": [
    {
     "data": {
      "text/plain": [
       "LogisticRegression()"
      ]
     },
     "execution_count": 9,
     "metadata": {},
     "output_type": "execute_result"
    }
   ],
   "source": [
    "from sklearn.linear_model import LogisticRegression\n",
    "\n",
    "clf_wo_reg = LogisticRegression()\n",
    "\n",
    "clf_wo_reg.fit(X_train, y_train)"
   ]
  },
  {
   "cell_type": "code",
   "execution_count": 10,
   "id": "218f2e82",
   "metadata": {},
   "outputs": [],
   "source": [
    "ypred_woreg = clf_wo_reg.predict(X_test)"
   ]
  },
  {
   "cell_type": "code",
   "execution_count": 11,
   "id": "4306a699",
   "metadata": {},
   "outputs": [],
   "source": [
    "df2_woreg = pd.DataFrame({'Actual':y_test.values.flatten(), 'Predicted':ypred_woreg})"
   ]
  },
  {
   "cell_type": "code",
   "execution_count": 12,
   "id": "f0717be9",
   "metadata": {},
   "outputs": [
    {
     "data": {
      "text/html": [
       "<div>\n",
       "<style scoped>\n",
       "    .dataframe tbody tr th:only-of-type {\n",
       "        vertical-align: middle;\n",
       "    }\n",
       "\n",
       "    .dataframe tbody tr th {\n",
       "        vertical-align: top;\n",
       "    }\n",
       "\n",
       "    .dataframe thead th {\n",
       "        text-align: right;\n",
       "    }\n",
       "</style>\n",
       "<table border=\"1\" class=\"dataframe\">\n",
       "  <thead>\n",
       "    <tr style=\"text-align: right;\">\n",
       "      <th></th>\n",
       "      <th>Actual</th>\n",
       "      <th>Predicted</th>\n",
       "    </tr>\n",
       "  </thead>\n",
       "  <tbody>\n",
       "    <tr>\n",
       "      <th>0</th>\n",
       "      <td>1</td>\n",
       "      <td>1</td>\n",
       "    </tr>\n",
       "    <tr>\n",
       "      <th>1</th>\n",
       "      <td>0</td>\n",
       "      <td>0</td>\n",
       "    </tr>\n",
       "    <tr>\n",
       "      <th>2</th>\n",
       "      <td>0</td>\n",
       "      <td>1</td>\n",
       "    </tr>\n",
       "    <tr>\n",
       "      <th>3</th>\n",
       "      <td>1</td>\n",
       "      <td>1</td>\n",
       "    </tr>\n",
       "    <tr>\n",
       "      <th>4</th>\n",
       "      <td>1</td>\n",
       "      <td>1</td>\n",
       "    </tr>\n",
       "  </tbody>\n",
       "</table>\n",
       "</div>"
      ],
      "text/plain": [
       "   Actual  Predicted\n",
       "0       1          1\n",
       "1       0          0\n",
       "2       0          1\n",
       "3       1          1\n",
       "4       1          1"
      ]
     },
     "execution_count": 12,
     "metadata": {},
     "output_type": "execute_result"
    }
   ],
   "source": [
    "df2_woreg.head()"
   ]
  },
  {
   "cell_type": "code",
   "execution_count": 13,
   "id": "8f4515fe",
   "metadata": {},
   "outputs": [
    {
     "data": {
      "text/plain": [
       "0.8875"
      ]
     },
     "execution_count": 13,
     "metadata": {},
     "output_type": "execute_result"
    }
   ],
   "source": [
    "clf_wo_reg.score(X_test, y_test)"
   ]
  },
  {
   "cell_type": "code",
   "execution_count": 14,
   "id": "4ed1abc9",
   "metadata": {},
   "outputs": [
    {
     "name": "stdout",
     "output_type": "stream",
     "text": [
      "The Mean Squared Error (MSE) for our model is : 0.1125\n"
     ]
    }
   ],
   "source": [
    "#Lets look at some other parameters for our model\n",
    "\n",
    "from sklearn.metrics import mean_squared_error\n",
    "\n",
    "print(\"The Mean Squared Error (MSE) for our model is : {}\".format(mean_squared_error(ypred_woreg, y_test)))"
   ]
  },
  {
   "cell_type": "markdown",
   "id": "27aabe6a",
   "metadata": {},
   "source": [
    "#Lets plot the confusion matrix to get some view of our predictions"
   ]
  },
  {
   "cell_type": "code",
   "execution_count": 15,
   "id": "52219c90",
   "metadata": {},
   "outputs": [
    {
     "data": {
      "text/plain": [
       "<AxesSubplot:>"
      ]
     },
     "execution_count": 15,
     "metadata": {},
     "output_type": "execute_result"
    },
    {
     "data": {
      "image/png": "[encoded data removed]",
      "text/plain": [
       "<Figure size 432x288 with 2 Axes>"
      ]
     },
     "metadata": {
      "needs_background": "light"
     },
     "output_type": "display_data"
    }
   ],
   "source": [
    "from sklearn.metrics import confusion_matrix\n",
    "\n",
    "cnfm = confusion_matrix(y_test, ypred_woreg)\n",
    "sns.heatmap(cnfm, annot=True)"
   ]
  },
  {
   "cell_type": "markdown",
   "id": "007e6dce",
   "metadata": {},
   "source": [
    "Now till here we applied a simple Logistic Regression Model and seen that the accuracy is very good around 89%. But now lets take it with regularization and see if it affects the accuracy or not."
   ]
  },
  {
   "cell_type": "markdown",
   "id": "eab87c1f",
   "metadata": {},
   "source": [
    "### With Regularizatin"
   ]
  },
  {
   "cell_type": "code",
   "execution_count": 16,
   "id": "ba6d86e1",
   "metadata": {},
   "outputs": [],
   "source": [
    "X = []\n",
    "y = []\n",
    "df_X = pd.read_csv('logistic_regression_data_2.csv', index_col=None, header=None)\n",
    "df_X.columns = ['x_1', 'x_2', 'y']\n",
    "for i, row in df_X.iterrows():\n",
    "    X.append([row.x_1, row.x_2])\n",
    "    y.append(row.y)"
   ]
  },
  {
   "cell_type": "code",
   "execution_count": 17,
   "id": "f8208887",
   "metadata": {},
   "outputs": [],
   "source": [
    "#Both our X and y now became 2D array with the below code\n",
    "X = np.atleast_2d(X)\n",
    "y = np.atleast_2d(y).T"
   ]
  },
  {
   "cell_type": "code",
   "execution_count": 18,
   "id": "3be02d54",
   "metadata": {},
   "outputs": [
    {
     "data": {
      "image/png": "[encoded data removed]",
      "text/plain": [
       "<Figure size 432x288 with 1 Axes>"
      ]
     },
     "metadata": {
      "needs_background": "light"
     },
     "output_type": "display_data"
    }
   ],
   "source": [
    "plt.scatter(X[np.where(y==0), 0], X[np.where(y==0), 1])\n",
    "plt.scatter(X[np.where(y==1), 0], X[np.where(y==1), 1])\n",
    "plt.axis('equal')\n",
    "plt.suptitle(\"Scatter plot of the datapoints of both category\")\n",
    "plt.show()"
   ]
  },
  {
   "cell_type": "code",
   "execution_count": 19,
   "id": "85b964ac",
   "metadata": {},
   "outputs": [],
   "source": [
    "mul = np.matmul\n",
    "\n",
    "def tranformX(X, norm=True):\n",
    "    X = np.hstack((\n",
    "        np.ones((X.shape[0], 1)),\n",
    "        X,\n",
    "        np.power(X, 2),\n",
    "        np.atleast_2d(X[:, 0]*X[:, 1]).T,\n",
    "        np.power(X, 3),\n",
    "        np.atleast_2d(X[:, 0]*X[:, 0]*X[:, 1]).T,\n",
    "        np.atleast_2d(X[:, 0]*X[:, 1]*X[:, 1]).T,\n",
    "        np.power(X, 4),\n",
    "        np.atleast_2d(X[:, 0]*X[:, 0]*X[:, 0]*X[:, 1]).T,\n",
    "        np.atleast_2d(X[:, 0]*X[:, 0]*X[:, 1]*X[:, 1]).T,\n",
    "        np.atleast_2d(X[:, 0]*X[:, 1]*X[:, 1]*X[:, 1]).T,\n",
    "        np.power(X, 5),\n",
    "        np.atleast_2d(X[:, 0]*X[:, 0]*X[:, 0]*X[:, 0]*X[:, 1]).T,\n",
    "        np.atleast_2d(X[:, 0]*X[:, 0]*X[:, 0]*X[:, 1]*X[:, 1]).T,\n",
    "        np.atleast_2d(X[:, 0]*X[:, 0]*X[:, 1]*X[:, 1]*X[:, 1]).T,\n",
    "        np.atleast_2d(X[:, 0]*X[:, 1]*X[:, 1]*X[:, 1]*X[:, 1]).T,\n",
    "        np.power(X, 6),\n",
    "        np.atleast_2d(X[:, 0]*X[:, 0]*X[:, 0]*X[:, 0]*X[:, 0]*X[:, 1]).T,\n",
    "        np.atleast_2d(X[:, 0]*X[:, 0]*X[:, 0]*X[:, 0]*X[:, 1]*X[:, 1]).T,\n",
    "        np.atleast_2d(X[:, 0]*X[:, 0]*X[:, 0]*X[:, 1]*X[:, 1]*X[:, 1]).T,\n",
    "        np.atleast_2d(X[:, 0]*X[:, 0]*X[:, 1]*X[:, 1]*X[:, 1]*X[:, 1]).T,\n",
    "        np.atleast_2d(X[:, 0]*X[:, 1]*X[:, 1]*X[:, 1]*X[:, 1]*X[:, 1]).T,\n",
    "        np.power(X, 7),\n",
    "        np.atleast_2d(X[:, 0]*X[:, 0]*X[:, 0]*X[:, 0]*X[:, 0]*X[:, 0]*X[:, 1]).T,\n",
    "        np.atleast_2d(X[:, 0]*X[:, 0]*X[:, 0]*X[:, 0]*X[:, 0]*X[:, 1]*X[:, 1]).T,\n",
    "        np.atleast_2d(X[:, 0]*X[:, 0]*X[:, 0]*X[:, 0]*X[:, 1]*X[:, 1]*X[:, 1]).T,\n",
    "        np.atleast_2d(X[:, 0]*X[:, 0]*X[:, 0]*X[:, 1]*X[:, 1]*X[:, 1]*X[:, 1]).T,\n",
    "        np.atleast_2d(X[:, 0]*X[:, 0]*X[:, 1]*X[:, 1]*X[:, 1]*X[:, 1]*X[:, 1]).T,\n",
    "        np.atleast_2d(X[:, 0]*X[:, 1]*X[:, 1]*X[:, 1]*X[:, 1]*X[:, 1]*X[:, 1]).T,\n",
    "        np.power(X, 8),\n",
    "        np.atleast_2d(X[:, 0]*X[:, 0]*X[:, 0]*X[:, 0]*X[:, 0]*X[:, 0]*X[:, 0]*X[:, 1]).T,\n",
    "        np.atleast_2d(X[:, 0]*X[:, 0]*X[:, 0]*X[:, 0]*X[:, 0]*X[:, 0]*X[:, 1]*X[:, 1]).T,\n",
    "        np.atleast_2d(X[:, 0]*X[:, 0]*X[:, 0]*X[:, 0]*X[:, 0]*X[:, 1]*X[:, 1]*X[:, 1]).T,\n",
    "        np.atleast_2d(X[:, 0]*X[:, 0]*X[:, 0]*X[:, 0]*X[:, 1]*X[:, 1]*X[:, 1]*X[:, 1]).T,\n",
    "        np.atleast_2d(X[:, 0]*X[:, 0]*X[:, 0]*X[:, 1]*X[:, 1]*X[:, 1]*X[:, 1]*X[:, 1]).T,\n",
    "        np.atleast_2d(X[:, 0]*X[:, 0]*X[:, 1]*X[:, 1]*X[:, 1]*X[:, 1]*X[:, 1]*X[:, 1]).T,\n",
    "        np.atleast_2d(X[:, 0]*X[:, 1]*X[:, 1]*X[:, 1]*X[:, 1]*X[:, 1]*X[:, 1]*X[:, 1]).T,\n",
    "        np.power(X, 9),\n",
    "        np.atleast_2d(X[:, 0]*X[:, 0]*X[:, 0]*X[:, 0]*X[:, 0]*X[:, 0]*X[:, 0]*X[:, 0]*X[:, 1]).T,\n",
    "        np.atleast_2d(X[:, 0]*X[:, 0]*X[:, 0]*X[:, 0]*X[:, 0]*X[:, 0]*X[:, 0]*X[:, 1]*X[:, 1]).T,\n",
    "        np.atleast_2d(X[:, 0]*X[:, 0]*X[:, 0]*X[:, 0]*X[:, 0]*X[:, 0]*X[:, 1]*X[:, 1]*X[:, 1]).T,\n",
    "        np.atleast_2d(X[:, 0]*X[:, 0]*X[:, 0]*X[:, 0]*X[:, 0]*X[:, 1]*X[:, 1]*X[:, 1]*X[:, 1]).T,\n",
    "        np.atleast_2d(X[:, 0]*X[:, 0]*X[:, 0]*X[:, 0]*X[:, 1]*X[:, 1]*X[:, 1]*X[:, 1]*X[:, 1]).T,\n",
    "        np.atleast_2d(X[:, 0]*X[:, 0]*X[:, 0]*X[:, 1]*X[:, 1]*X[:, 1]*X[:, 1]*X[:, 1]*X[:, 1]).T,\n",
    "        np.atleast_2d(X[:, 0]*X[:, 0]*X[:, 1]*X[:, 1]*X[:, 1]*X[:, 1]*X[:, 1]*X[:, 1]*X[:, 1]).T,\n",
    "        np.atleast_2d(X[:, 0]*X[:, 1]*X[:, 1]*X[:, 1]*X[:, 1]*X[:, 1]*X[:, 1]*X[:, 1]*X[:, 1]).T,\n",
    "    ))\n",
    "    return X\n",
    "\n",
    "def init_theta(X):\n",
    "    return np.zeros((X.shape[1], 1))\n",
    "\n",
    "def sigmoid(X):\n",
    "    return np.power(1 + np.exp(-X), -1)\n",
    "\n",
    "def h(X, theta):\n",
    "    return sigmoid(mul(X, theta))\n",
    "\n",
    "def j(theta, X, y, lamda=None):\n",
    "    m = X.shape[0]\n",
    "    theta[0] = 0\n",
    "    if lamda:\n",
    "        return (-(1/m) * (mul(y.T, np.log(h(X, theta))) + mul((1-y).T, np.log(1 - h(X, theta)))) + (lamda/(2*m))*mul(theta.T, theta))[0][0] \n",
    "    return -(1/m) * (mul(y.T, np.log(h(X, theta))) + mul((1-y).T, np.log(1 - h(X, theta))))[0][0]\n",
    "\n",
    "#Regularized Gradient \n",
    "def j_prime(theta, X, y, lamda=None):\n",
    "    m = X.shape[0]\n",
    "    theta[0] = 0\n",
    "    if lamda:\n",
    "        return (1/m) * mul(X.T, (h(X, theta) - y)) + (lamda/m) * theta \n",
    "    return (1/m) * mul(X.T, (h(X, theta) - y)) \n",
    "\n",
    "#Simultaneous Update\n",
    "def update_theta(theta, X, y, lamda=None):\n",
    "    return theta - alpha * j_prime(theta, X, y, lamda)\n",
    "\n"
   ]
  },
  {
   "cell_type": "code",
   "execution_count": 45,
   "id": "894ecda8",
   "metadata": {},
   "outputs": [
    {
     "name": "stdout",
     "output_type": "stream",
     "text": [
      "0.6913212624236081\n",
      "0.567215805549171\n",
      "0.5408412850587747\n",
      "0.5258832245370714\n",
      "0.515405617741571\n",
      "0.5071549808680718\n",
      "0.5001813083682839\n",
      "0.4940323722331996\n",
      "0.48847243676114377\n"
     ]
    }
   ],
   "source": [
    "X_trans = tranformX(X)\n",
    "theta = init_theta(X_trans)\n",
    "\n",
    "alpha = 0.1\n",
    "tolerance = 0.00001\n",
    "prev_j = 10000\n",
    "lamda = None\n",
    "curr_j = j(theta, X_trans, y, lamda)\n",
    "\n",
    "counter = 0\n",
    "while(abs(curr_j - prev_j) > tolerance):\n",
    "    theta = update_theta(theta, X_trans, y, lamda)\n",
    "    prev_j = curr_j\n",
    "    curr_j = j(theta, X_trans, y, lamda)\n",
    "    if counter%500==0:\n",
    "        print(curr_j)\n",
    "    counter += 1\n"
   ]
  },
  {
   "cell_type": "code",
   "execution_count": 46,
   "id": "3d839eaf",
   "metadata": {},
   "outputs": [],
   "source": [
    "x1, x2 = np.mgrid[-1.1:1.2:.01, -1.1:1.2:.01]\n",
    "grid = np.c_[x1.ravel(), x2.ravel()]\n",
    "grid = tranformX(grid, False)"
   ]
  },
  {
   "cell_type": "code",
   "execution_count": 47,
   "id": "d6416350",
   "metadata": {},
   "outputs": [],
   "source": [
    "probs = h(grid, theta).reshape(x1.shape)"
   ]
  },
  {
   "cell_type": "code",
   "execution_count": 48,
   "id": "ec1b8b44",
   "metadata": {},
   "outputs": [
    {
     "name": "stderr",
     "output_type": "stream",
     "text": [
      "C:\\Users\\kp779\\AppData\\Local\\Temp/ipykernel_36384/243167180.py:2: UserWarning: The following kwargs were not used by contour: 'color'\n",
      "  ax.contourf(x1, x2, probs, 10, cmap=\"RdBu\", vmin=0, vmax=1, color='b')\n",
      "C:\\Users\\kp779\\AppData\\Local\\Temp/ipykernel_36384/243167180.py:3: UserWarning: The following kwargs were not used by contour: 'color'\n",
      "  ax.contour(x1, x2, np.round(probs), vmin=0, vmax=1, color='black')\n"
     ]
    },
    {
     "data": {
      "image/png": "[encoded data removed]",
      "text/plain": [
       "<Figure size 576x432 with 1 Axes>"
      ]
     },
     "metadata": {
      "needs_background": "light"
     },
     "output_type": "display_data"
    }
   ],
   "source": [
    "f, ax = plt.subplots(figsize=(8, 6))\n",
    "ax.contourf(x1, x2, probs, 10, cmap=\"RdBu\", vmin=0, vmax=1, color='b')\n",
    "ax.contour(x1, x2, np.round(probs), vmin=0, vmax=1, color='black')\n",
    "plt.scatter(X_trans[np.where(y==1), 1], X_trans[np.where(y==1), 2], edgecolors='white')\n",
    "plt.scatter(X_trans[np.where(y==0), 1], X_trans[np.where(y==0), 2], edgecolors='white')\n",
    "plt.show()"
   ]
  },
  {
   "cell_type": "code",
   "execution_count": 49,
   "id": "745edf46",
   "metadata": {},
   "outputs": [
    {
     "name": "stderr",
     "output_type": "stream",
     "text": [
      "C:\\Users\\kp779\\AppData\\Local\\Temp/ipykernel_36384/843744139.py:2: UserWarning: The following kwargs were not used by contour: 'color'\n",
      "  ax.contourf(x1, x2, probs, 10, cmap=\"RdBu\", vmin=0, vmax=1, color='b',)\n",
      "C:\\Users\\kp779\\AppData\\Local\\Temp/ipykernel_36384/843744139.py:3: UserWarning: The following kwargs were not used by contour: 'color'\n",
      "  ax.contour(x1, x2, np.round(probs), vmin=0, vmax=1, color='black')\n"
     ]
    },
    {
     "data": {
      "image/png": "[encoded data removed]",
      "text/plain": [
       "<Figure size 576x432 with 1 Axes>"
      ]
     },
     "metadata": {
      "needs_background": "light"
     },
     "output_type": "display_data"
    }
   ],
   "source": [
    "f, ax = plt.subplots(figsize=(8, 6))\n",
    "ax.contourf(x1, x2, probs, 10, cmap=\"RdBu\", vmin=0, vmax=1, color='b',)\n",
    "ax.contour(x1, x2, np.round(probs), vmin=0, vmax=1, color='black')\n",
    "plt.scatter(X_trans[np.where(y==1), 1], X_trans[np.where(y==1), 2], edgecolors='white')\n",
    "plt.scatter(X_trans[np.where(y==0), 1], X_trans[np.where(y==0), 2], edgecolors='white')\n",
    "plt.show()"
   ]
  },
  {
   "cell_type": "code",
   "execution_count": null,
   "id": "819db00e",
   "metadata": {},
   "outputs": [],
   "source": []
  },
  {
   "cell_type": "code",
   "execution_count": null,
   "id": "a7869175",
   "metadata": {},
   "outputs": [],
   "source": []
  }
 ],
 "metadata": {
  "kernelspec": {
   "display_name": "Python 3 (ipykernel)",
   "language": "python",
   "name": "python3"
  },
  "language_info": {
   "codemirror_mode": {
    "name": "ipython",
    "version": 3
   },
   "file_extension": ".py",
   "mimetype": "text/x-python",
   "name": "python",
   "nbconvert_exporter": "python",
   "pygments_lexer": "ipython3",
   "version": "3.9.7"
  }
 },
 "nbformat": 4,
 "nbformat_minor": 5
}
